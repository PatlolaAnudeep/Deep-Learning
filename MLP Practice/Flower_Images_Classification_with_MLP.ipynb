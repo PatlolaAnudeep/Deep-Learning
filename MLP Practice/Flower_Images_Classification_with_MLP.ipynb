{
  "nbformat": 4,
  "nbformat_minor": 0,
  "metadata": {
    "colab": {
      "name": "DL_Masterclass_Flower_Images_Classification_with MLP.ipynb",
      "provenance": [],
      "collapsed_sections": [],
      "toc_visible": true
    },
    "kernelspec": {
      "name": "python3",
      "display_name": "Python 3"
    }
  },
  "cells": [
    {
      "cell_type": "markdown",
      "metadata": {
        "id": "6EDZUd6HaOH2"
      },
      "source": [
        "\n",
        "## Classification of Flower Images using Image Processing and Machine Learning Techniques\n"
      ]
    },
    {
      "cell_type": "markdown",
      "metadata": {
        "id": "NPs7ZZJb2Q5s"
      },
      "source": [
        "\n",
        "The benchmark dataset used for this experiment can be found in the following link:\n",
        "\n",
        "Dataset: Image source: (http://www.robots.ox.ac.uk/~vgg/data/flowers/17/index.html)\n",
        "\n",
        "After downloading data, the zip file has to be unzipped. \n",
        "\n",
        "This will create a folder named **dataset**. \n",
        "Inside this folder there will be two subfolders named - **images** and **masks**. \n",
        "\n",
        "**images** folder will contain many images of four category of flowers - crocus, daisy, pansy and sunflower.\n",
        "There are a total of 234 images.\n",
        "\n",
        "**masks** folder will contain the binary mask images corresponding to the flower images inside the **images** folder. \n",
        "\n",
        "The binary masks can be used to supress the background regions from the original images to take out the regions of the actual flowers.\n",
        "\n"
      ]
    },
    {
      "cell_type": "markdown",
      "metadata": {
        "id": "hJnpTCr83Lb2"
      },
      "source": [
        "# Data Preprocessing for Ease of Use\n",
        "\n",
        "All the images inside the **images** folder have been resized to 256x256 RGB images and put in a disk file named **flower-images-256by256.pkl**.\n",
        "This pickle file contains a numpy array of dimension (234, 256, 256, 3) -> a total of 234 images each of dimension 256x256 with 3 color channels for RGB.\n",
        "\n",
        "One more numpy array is used to save the corresponding binary masks - stored in a file named **flower-masks-256by256.pkl**.\n",
        "\n",
        "The binary masks are used to suppress the background of the images of the flowers before extracting color histograms from the images.\n",
        "\n",
        "\n",
        "Another pickle file contains the numeric codes representing the labels/categories/target-class of the flowers. This file is named as **flower-labels.pkl**.\n",
        "\n",
        "### Make sure all three pickle files reside in the current folder before running the rest of the code.\n",
        "\n",
        "\n",
        "\n",
        "\n",
        "\n",
        "\n"
      ]
    },
    {
      "cell_type": "markdown",
      "metadata": {
        "id": "hV_UsF7XsNra"
      },
      "source": [
        "## Load Data From Disk Files\n",
        "\n",
        "#### Image of flowers stacked as a big numpy array (integer intensity values of image pixels)\n",
        "#### All images are resized to 256x256 images with 3 channels for RGB planes\n",
        "#### There are a total of 234 images\n",
        "#### \"flower-images-256by256.pkl\"  file contains a big numpy array of the following dimension 234x256x256x3\n",
        "\n",
        "#### \"flower-labels.pkl\"  file contains the 234 integer labels for the flowers\n",
        "\n",
        "#### There are 4 category of flowers labelled with integers 0, 1, 2 and 3\n",
        "\n",
        "#### Four category of flowers - crocus, daisy, pansy and sunflower\n",
        "\n",
        "#### >> 0 - crocus, 1-daisy, 2-pansy, 3-sunflower\n",
        "\n",
        "\n",
        "\n"
      ]
    },
    {
      "cell_type": "markdown",
      "metadata": {
        "id": "ALNsJSBh7pPG"
      },
      "source": [
        "## Read all the files"
      ]
    },
    {
      "cell_type": "code",
      "metadata": {
        "id": "UFh4BG8S0O37",
        "colab": {
          "base_uri": "https://localhost:8080/",
          "height": 52
        },
        "outputId": "088f75b2-bfd8-44fb-8455-9f95f5226068"
      },
      "source": [
        "import pickle\n",
        "\n",
        "# original flower image 256x256x3 total 234 images\n",
        "flower_images = pickle.load(open('flower-images-256by256.pkl','rb')) \n",
        "\n",
        "# image mask 256x256 total 234 masks\n",
        "flower_masks=pickle.load(open('flower-masks-256by256.pkl','rb')) \n",
        "\n",
        "# Label encoded numbers ...total 234 labels >> 0 - crocus, 1-daisy, 2-pansy, 3-sunflower\n",
        "target = pickle.load(open('flower-labels.pkl','rb'))  \n",
        "\n",
        "print('\\n Loaded the files......')"
      ],
      "execution_count": null,
      "outputs": [
        {
          "output_type": "stream",
          "text": [
            "\n",
            " Loaded the files......\n"
          ],
          "name": "stdout"
        }
      ]
    },
    {
      "cell_type": "code",
      "metadata": {
        "id": "ngADYUQp3s43",
        "colab": {
          "base_uri": "https://localhost:8080/",
          "height": 34
        },
        "outputId": "8075cb84-551a-4bbd-fba7-42c27856891a"
      },
      "source": [
        "print(type(flower_images))"
      ],
      "execution_count": null,
      "outputs": [
        {
          "output_type": "stream",
          "text": [
            "<type 'numpy.ndarray'>\n"
          ],
          "name": "stdout"
        }
      ]
    },
    {
      "cell_type": "code",
      "metadata": {
        "id": "jHD4N65U36uC",
        "colab": {
          "base_uri": "https://localhost:8080/",
          "height": 34
        },
        "outputId": "7a7d3db5-668d-4d12-cade-c18e7331a61d"
      },
      "source": [
        "size=len(flower_images)\n",
        "print(size)\n"
      ],
      "execution_count": null,
      "outputs": [
        {
          "output_type": "stream",
          "text": [
            "234\n"
          ],
          "name": "stdout"
        }
      ]
    },
    {
      "cell_type": "markdown",
      "metadata": {
        "id": "GbZKHU725kOM"
      },
      "source": [
        "### Import Dependencies\n",
        "Import necessary libraries and dependencies."
      ]
    },
    {
      "cell_type": "code",
      "metadata": {
        "id": "ucEGTmEcZu5f"
      },
      "source": [
        "## Classification of Flower images into different classes\n",
        "\n",
        "# import the necessary packages\n",
        "from sklearn.preprocessing import LabelEncoder\n",
        "\n",
        "from keras.models import Sequential\n",
        "from keras.layers import Dense\n",
        "from keras.optimizers import RMSprop\n",
        "from keras.utils import plot_model\n",
        "\n",
        "from sklearn.model_selection import train_test_split\n",
        "from sklearn.metrics import classification_report, confusion_matrix\n",
        "\n",
        "import numpy as np\n",
        "import cv2\n",
        "\n",
        "import matplotlib.pyplot as plt"
      ],
      "execution_count": null,
      "outputs": []
    },
    {
      "cell_type": "markdown",
      "metadata": {
        "id": "RyW2Ymvu5vW2"
      },
      "source": [
        "###Feature Extraction from Images\n",
        "\n",
        "Every machine learning algorithm requires numeric features to be fed as input.\n",
        "We need to extract features from these images. \n",
        "Here, we are going to extract the RGB histogram from each color images. This histogram will act as a feature vector and represent an image.\n",
        "\n",
        "Let's write a helper function for this."
      ]
    },
    {
      "cell_type": "code",
      "metadata": {
        "id": "-tm3V3aHaJ0G"
      },
      "source": [
        "# Create RGB color histogram feature vectors\n",
        "#------------------------------------------------------------------------------\n",
        "\n",
        "class RGBHistogram:\n",
        "\tdef __init__(self, bins):\n",
        "\t\t# store the number of bins the histogram will use\n",
        "\t\tself.bins = bins\n",
        "\n",
        "\tdef describe(self, image, mask = None):\n",
        "\t\t# compute a 3D histogram in the RGB colorspace,\n",
        "\t\t# then normalize the histogram so that images\n",
        "\t\t# with the same content, but either scaled larger\n",
        "\t\t# or smaller will have (roughly) the same histogram\n",
        "\t\thist = cv2.calcHist([image], [0, 1, 2], mask, self.bins, [0, 256, 0, 256, 0, 256])\n",
        "\t\tcv2.normalize(hist, hist)\n",
        "\n",
        "\t\t# return out 3D histogram as a flattened array\n",
        "\t\treturn hist.flatten()\n",
        "\n",
        "#------------------------------------------------------------------------------"
      ],
      "execution_count": null,
      "outputs": []
    },
    {
      "cell_type": "markdown",
      "metadata": {
        "id": "sSmUWJ_I6syS"
      },
      "source": [
        "### Read Data \n",
        "\n",
        "Lets us read the data from files "
      ]
    },
    {
      "cell_type": "code",
      "metadata": {
        "id": "Rfau4XV50k4W"
      },
      "source": [
        "# Initialize the image descriptor\n",
        "desc = RGBHistogram([8, 8, 8])\n",
        "\n",
        "data=[]\n",
        "\n",
        "for i in range(size):\n",
        " image=np.reshape(flower_images[i], (256, 256,3))   \n",
        " mask=np.reshape(flower_masks[i], (256, 256))   \n",
        "\n",
        " features = desc.describe(image, mask)\n",
        " data.append(features)\n",
        "\n",
        "#print(len(data))"
      ],
      "execution_count": null,
      "outputs": []
    },
    {
      "cell_type": "markdown",
      "metadata": {
        "id": "Iu8B5qlr8J4o"
      },
      "source": [
        "### Data Transformation\n",
        "\n",
        "Data read needs to be transformed. The class labels are categorical data. We need to convert the labels into numeric values."
      ]
    },
    {
      "cell_type": "code",
      "metadata": {
        "id": "CJYYK6728CJv",
        "colab": {
          "base_uri": "https://localhost:8080/"
        },
        "outputId": "5dd85738-09dd-46d6-924e-b9bab08d0835"
      },
      "source": [
        "print('\\n Target : {}'.format(target)) # class labels for all the images corresponding to the four classes/categories \n",
        "\n",
        "# grab the unique target names and encode the labels\n",
        "targetNames = np.unique(target)   # classes crocus, daisy, pansy, sunflower\n",
        "print('\\n Unique target labels are : {}'.format(targetNames))\n",
        "\n",
        "\n",
        "le = LabelEncoder()\n",
        "# convert class labels to numbers 0 1 2 3 corresponding to the four classes \n",
        "target = le.fit_transform(target)\n",
        "#print('\\n Target : {}'.format(target)) \n"
      ],
      "execution_count": null,
      "outputs": [
        {
          "output_type": "stream",
          "text": [
            "\n",
            " Target : ['daisy', 'daisy', 'daisy', 'daisy', 'daisy', 'daisy', 'daisy', 'daisy', 'daisy', 'daisy', 'daisy', 'daisy', 'daisy', 'daisy', 'daisy', 'daisy', 'daisy', 'daisy', 'daisy', 'daisy', 'daisy', 'daisy', 'crocus', 'daisy', 'daisy', 'crocus', 'daisy', 'crocus', 'crocus', 'daisy', 'daisy', 'crocus', 'crocus', 'crocus', 'crocus', 'crocus', 'crocus', 'crocus', 'crocus', 'crocus', 'crocus', 'crocus', 'crocus', 'crocus', 'crocus', 'crocus', 'crocus', 'crocus', 'crocus', 'sunflower', 'sunflower', 'sunflower', 'sunflower', 'sunflower', 'sunflower', 'sunflower', 'sunflower', 'sunflower', 'sunflower', 'sunflower', 'sunflower', 'sunflower', 'sunflower', 'sunflower', 'sunflower', 'sunflower', 'sunflower', 'sunflower', 'sunflower', 'sunflower', 'sunflower', 'sunflower', 'sunflower', 'sunflower', 'sunflower', 'sunflower', 'sunflower', 'sunflower', 'sunflower', 'sunflower', 'sunflower', 'sunflower', 'sunflower', 'sunflower', 'sunflower', 'sunflower', 'sunflower', 'sunflower', 'sunflower', 'sunflower', 'sunflower', 'sunflower', 'sunflower', 'sunflower', 'sunflower', 'sunflower', 'sunflower', 'sunflower', 'sunflower', 'sunflower', 'sunflower', 'sunflower', 'sunflower', 'sunflower', 'sunflower', 'sunflower', 'sunflower', 'sunflower', 'sunflower', 'sunflower', 'sunflower', 'sunflower', 'sunflower', 'sunflower', 'sunflower', 'sunflower', 'sunflower', 'sunflower', 'pansy', 'pansy', 'sunflower', 'sunflower', 'pansy', 'pansy', 'pansy', 'pansy', 'pansy', 'pansy', 'pansy', 'pansy', 'pansy', 'pansy', 'pansy', 'pansy', 'pansy', 'pansy', 'pansy', 'pansy', 'pansy', 'pansy', 'pansy', 'pansy', 'pansy', 'pansy', 'pansy', 'pansy', 'pansy', 'pansy', 'pansy', 'pansy', 'pansy', 'pansy', 'pansy', 'pansy', 'pansy', 'pansy', 'pansy', 'pansy', 'pansy', 'pansy', 'pansy', 'pansy', 'pansy', 'pansy', 'pansy', 'pansy', 'pansy', 'pansy', 'pansy', 'pansy', 'pansy', 'pansy', 'pansy', 'pansy', 'pansy', 'daisy', 'daisy', 'daisy', 'daisy', 'daisy', 'daisy', 'pansy', 'daisy', 'daisy', 'daisy', 'daisy', 'daisy', 'daisy', 'daisy', 'daisy', 'daisy', 'daisy', 'daisy', 'daisy', 'daisy', 'daisy', 'daisy', 'daisy', 'daisy', 'daisy', 'daisy', 'daisy', 'daisy', 'daisy', 'daisy', 'daisy', 'crocus', 'crocus', 'crocus', 'crocus', 'crocus', 'crocus', 'crocus', 'crocus', 'crocus', 'crocus', 'crocus', 'crocus', 'crocus', 'crocus', 'crocus', 'crocus', 'crocus', 'crocus', 'crocus', 'crocus', 'crocus', 'crocus', 'crocus', 'crocus', 'crocus', 'crocus', 'crocus']\n",
            "\n",
            " Unique target labels are : ['crocus' 'daisy' 'pansy' 'sunflower']\n"
          ],
          "name": "stdout"
        }
      ]
    },
    {
      "cell_type": "code",
      "metadata": {
        "id": "LMmKzoeFiKQY"
      },
      "source": [
        "from keras.utils import to_categorical\n",
        "#ohot_target = to_categorical(target, num_classes=4)"
      ],
      "execution_count": null,
      "outputs": []
    },
    {
      "cell_type": "markdown",
      "metadata": {
        "id": "fBHOW_Vm8dTB"
      },
      "source": [
        "### Train and Test Split"
      ]
    },
    {
      "cell_type": "code",
      "metadata": {
        "id": "XnEOrmBdkvdC"
      },
      "source": [
        "data = np.array(data)"
      ],
      "execution_count": null,
      "outputs": []
    },
    {
      "cell_type": "code",
      "metadata": {
        "id": "89a59REC8ZHW"
      },
      "source": [
        "# Construct the training and testing splits\n",
        "# Keep 70% for training, 30% for testing\n",
        "X_train, X_test, y_train, y_test = train_test_split(data, target, test_size = 0.3, stratify=True, random_state = 42)"
      ],
      "execution_count": null,
      "outputs": []
    },
    {
      "cell_type": "code",
      "metadata": {
        "id": "rbnrbKPSgwLK"
      },
      "source": [
        "train_length = len(X_train)\n",
        "test_length = len(X_test)"
      ],
      "execution_count": null,
      "outputs": []
    },
    {
      "cell_type": "code",
      "metadata": {
        "id": "6dF3iuQMoC4U"
      },
      "source": [
        "X_train = X_train.reshape(train_length, 512)\n",
        "X_test = X_test.reshape(test_length, 512)\n",
        "X_train = X_train.astype('float32')\n",
        "X_test = X_test.astype('float32')\n",
        "X_train /= 255\n",
        "X_test /= 255\n",
        "\n",
        "print(train_length, 'train samples')\n",
        "print(test_length, 'test samples')\n",
        "\n",
        "# Convert numeric class labels to one-hot-encoded vectors\n",
        "y_train = to_categorical(y_train, num_classes=4)\n",
        "y_test = to_categorical(y_test, num_classes=4)"
      ],
      "execution_count": null,
      "outputs": []
    },
    {
      "cell_type": "code",
      "metadata": {
        "id": "o-0ehs39p6z-"
      },
      "source": [
        "X_train.shape"
      ],
      "execution_count": null,
      "outputs": []
    },
    {
      "cell_type": "code",
      "metadata": {
        "id": "d2Qh-QgkqSw3"
      },
      "source": [
        "X_train[0,:].shape"
      ],
      "execution_count": null,
      "outputs": []
    },
    {
      "cell_type": "code",
      "metadata": {
        "id": "BhIy4DgAp8Vr"
      },
      "source": [
        "X_test.shape"
      ],
      "execution_count": null,
      "outputs": []
    },
    {
      "cell_type": "code",
      "metadata": {
        "id": "OE5yZbPkp-Nw"
      },
      "source": [
        "y_train.shape"
      ],
      "execution_count": null,
      "outputs": []
    },
    {
      "cell_type": "code",
      "metadata": {
        "id": "qJBq3Hiep_dq"
      },
      "source": [
        "y_test.shape"
      ],
      "execution_count": null,
      "outputs": []
    },
    {
      "cell_type": "markdown",
      "metadata": {
        "id": "6R82_4q--Zi-"
      },
      "source": [
        "## Build and Compile the MLP Model"
      ]
    },
    {
      "cell_type": "code",
      "metadata": {
        "id": "0NXNI21ac5U1"
      },
      "source": [
        "num_classes = 4\n",
        "\n",
        "model = Sequential()\n",
        "model.add(Dense(1024, activation='sigmoid', input_shape=(512,)))\n",
        "model.add(Dense(512, activation='sigmoid'))\n",
        "model.add(Dense(128, activation='sigmoid'))\n",
        "model.add(Dense(num_classes, activation='softmax'))\n",
        "\n",
        "model.summary()\n",
        "\n",
        "model.compile(loss='categorical_crossentropy', optimizer=RMSprop(), metrics=['accuracy'])"
      ],
      "execution_count": null,
      "outputs": []
    },
    {
      "cell_type": "markdown",
      "metadata": {
        "id": "YK9WtadC-hRV"
      },
      "source": [
        "## Train the MLP - use the Validation Set"
      ]
    },
    {
      "cell_type": "code",
      "metadata": {
        "id": "4vxUSW7reMT1"
      },
      "source": [
        "history = model.fit(X_train, y_train, batch_size=16, epochs=100, validation_data=(X_test, y_test))"
      ],
      "execution_count": null,
      "outputs": []
    },
    {
      "cell_type": "markdown",
      "metadata": {
        "id": "Mt6JbPZN9DLQ"
      },
      "source": [
        "### Plot the History of Accuracy and Loss\n",
        "Plot the history of the model suring training. How te accuracy changes over time. How the profile of the loss funcrtion changes over the number of training iterations."
      ]
    },
    {
      "cell_type": "code",
      "metadata": {
        "id": "UpvLUXkad7PS"
      },
      "source": [
        "# Plot Loss/Accuracy Profile of the model on Training Data\n",
        "plt.figure(figsize=(12,10))\n",
        "plt.subplot(211)\n",
        "plt.title('Loss-Accuracy on Training Data')\n",
        "plt.plot(history.history['loss'], label='loss')\n",
        "plt.plot(history.history['accuracy'], label='accuracy')\n",
        "plt.legend()"
      ],
      "execution_count": null,
      "outputs": []
    },
    {
      "cell_type": "code",
      "metadata": {
        "id": "nRzoXth8eTtb"
      },
      "source": [
        "# Plot Loss/Accuracy Profile of the model on Test/Validation Data\n",
        "plt.figure(figsize=(12,10))\n",
        "plt.subplot(211)\n",
        "plt.title('Loss-Accuracy on Validation Data')\n",
        "plt.plot(history.history['val_loss'], label='loss')\n",
        "plt.plot(history.history['val_accuracy'], label='accuracy')\n",
        "plt.legend()"
      ],
      "execution_count": null,
      "outputs": []
    },
    {
      "cell_type": "markdown",
      "metadata": {
        "id": "Rf3M93Y58p3a"
      },
      "source": [
        "### Model Evaluation\n",
        "\n",
        "Confusion matrix shows that the model produces about 70%  accuracy"
      ]
    },
    {
      "cell_type": "code",
      "metadata": {
        "id": "qiZcjRsC8r0T"
      },
      "source": [
        "# Evaluate the classifier\n",
        "pred = model.predict(X_test)\n",
        "pred = np.argmax(pred, axis=1)\n",
        "test_labels = np.argmax(y_test, axis=1)\n",
        "\n",
        "print('\\n Confusion Matrix : \\n\\n')\n",
        "print(confusion_matrix(test_labels, pred))\n",
        "\n",
        "print('\\n Classification Report : \\n\\n')\n",
        "print(classification_report(test_labels,pred, target_names = targetNames))"
      ],
      "execution_count": null,
      "outputs": []
    }
  ]
}